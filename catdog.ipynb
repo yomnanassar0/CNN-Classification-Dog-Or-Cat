{
 "cells": [
  {
   "cell_type": "code",
   "execution_count": 6,
   "metadata": {
    "id": "7QjsP3qcgbMs"
   },
   "outputs": [],
   "source": [
    "import tensorflow as tf\n",
    "from keras.preprocessing.image import ImageDataGenerator"
   ]
  },
  {
   "cell_type": "code",
   "execution_count": 7,
   "metadata": {
    "id": "ziv1vjPqgu5M"
   },
   "outputs": [
    {
     "name": "stdout",
     "output_type": "stream",
     "text": [
      "Found 8000 images belonging to 2 classes.\n",
      "Found 2000 images belonging to 2 classes.\n"
     ]
    }
   ],
   "source": [
    "train_datagen=ImageDataGenerator(\n",
    "    rescale=1./255,\n",
    "    shear_range=0.2,\n",
    "    zoom_range=0.2,\n",
    "    horizontal_flip=True\n",
    ")\n",
    "training_set= train_datagen.flow_from_directory('dataset/training_set',\n",
    "    target_size=(64,64),\n",
    "    batch_size=32,\n",
    "    class_mode='binary'\n",
    "\n",
    ")\n",
    "\n",
    "test_datagen=ImageDataGenerator(rescale=1./255)\n",
    "test_set= test_datagen.flow_from_directory('dataset/test_set',\n",
    "    target_size=(64,64),\n",
    "    batch_size=32,\n",
    "    class_mode='binary'\n",
    "\n",
    ")\n"
   ]
  },
  {
   "cell_type": "code",
   "execution_count": 8,
   "metadata": {
    "id": "p3AVjRNAgu7f"
   },
   "outputs": [],
   "source": [
    "cnn = tf.keras.models.Sequential()"
   ]
  },
  {
   "cell_type": "code",
   "execution_count": 9,
   "metadata": {
    "id": "tXCZZDqXgu9-"
   },
   "outputs": [],
   "source": [
    "cnn.add(tf.keras.layers.Conv2D(filters=32,kernel_size=3,activation='relu',input_shape=[64,64,3]))"
   ]
  },
  {
   "cell_type": "code",
   "execution_count": 10,
   "metadata": {
    "id": "eeTf0ESZgvA1"
   },
   "outputs": [],
   "source": [
    "cnn.add(tf.keras.layers.MaxPool2D(pool_size=2,strides=2))"
   ]
  },
  {
   "cell_type": "code",
   "execution_count": 11,
   "metadata": {
    "id": "pBl1QEbBgvDe"
   },
   "outputs": [],
   "source": [
    "cnn.add(tf.keras.layers.Conv2D(filters=32,kernel_size=3,activation='relu'))\n",
    "cnn.add(tf.keras.layers.MaxPool2D(pool_size=2,strides=2))"
   ]
  },
  {
   "cell_type": "code",
   "execution_count": 12,
   "metadata": {
    "id": "zNtlDN0tgvFv"
   },
   "outputs": [],
   "source": [
    "cnn.add(tf.keras.layers.Flatten())"
   ]
  },
  {
   "cell_type": "code",
   "execution_count": 13,
   "metadata": {
    "id": "-GeVOY25lLbR"
   },
   "outputs": [],
   "source": [
    "cnn.add(tf.keras.layers.Dense(units=128,activation='relu'))"
   ]
  },
  {
   "cell_type": "code",
   "execution_count": 14,
   "metadata": {
    "id": "RCJPlihclLoS"
   },
   "outputs": [],
   "source": [
    "cnn.add(tf.keras.layers.Dense(units=1,activation='sigmoid'))"
   ]
  },
  {
   "cell_type": "code",
   "execution_count": 15,
   "metadata": {
    "id": "MJD_g0mTgvJO"
   },
   "outputs": [],
   "source": [
    "cnn.compile(optimizer='adam',loss='binary_crossentropy',metrics=['accuracy'])"
   ]
  },
  {
   "cell_type": "code",
   "execution_count": 16,
   "metadata": {
    "id": "WqpXjaTwmZfV"
   },
   "outputs": [
    {
     "name": "stdout",
     "output_type": "stream",
     "text": [
      "Epoch 1/25\n",
      "250/250 [==============================] - 36s 142ms/step - loss: 0.7095 - accuracy: 0.5221 - val_loss: 0.5981 - val_accuracy: 0.6850\n",
      "Epoch 2/25\n",
      "250/250 [==============================] - 35s 139ms/step - loss: 0.6061 - accuracy: 0.6761 - val_loss: 0.6082 - val_accuracy: 0.6485\n",
      "Epoch 3/25\n",
      "250/250 [==============================] - 35s 142ms/step - loss: 0.5756 - accuracy: 0.6886 - val_loss: 0.5474 - val_accuracy: 0.7340\n",
      "Epoch 4/25\n",
      "250/250 [==============================] - 34s 134ms/step - loss: 0.5303 - accuracy: 0.7325 - val_loss: 0.5735 - val_accuracy: 0.7260\n",
      "Epoch 5/25\n",
      "250/250 [==============================] - 34s 135ms/step - loss: 0.5126 - accuracy: 0.7488 - val_loss: 0.4951 - val_accuracy: 0.7645\n",
      "Epoch 6/25\n",
      "250/250 [==============================] - 33s 132ms/step - loss: 0.4875 - accuracy: 0.7642 - val_loss: 0.4705 - val_accuracy: 0.7795\n",
      "Epoch 7/25\n",
      "250/250 [==============================] - 34s 134ms/step - loss: 0.4810 - accuracy: 0.7646 - val_loss: 0.4606 - val_accuracy: 0.7870\n",
      "Epoch 8/25\n",
      "250/250 [==============================] - 34s 135ms/step - loss: 0.4508 - accuracy: 0.7907 - val_loss: 0.4791 - val_accuracy: 0.7805\n",
      "Epoch 9/25\n",
      "250/250 [==============================] - 34s 134ms/step - loss: 0.4328 - accuracy: 0.8000 - val_loss: 0.4593 - val_accuracy: 0.7860\n",
      "Epoch 10/25\n",
      "250/250 [==============================] - 34s 137ms/step - loss: 0.4312 - accuracy: 0.8023 - val_loss: 0.5159 - val_accuracy: 0.7600\n",
      "Epoch 11/25\n",
      "250/250 [==============================] - 32s 129ms/step - loss: 0.4229 - accuracy: 0.8008 - val_loss: 0.4434 - val_accuracy: 0.7985\n",
      "Epoch 12/25\n",
      "250/250 [==============================] - 33s 131ms/step - loss: 0.3978 - accuracy: 0.8219 - val_loss: 0.4941 - val_accuracy: 0.7760\n",
      "Epoch 13/25\n",
      "250/250 [==============================] - 32s 128ms/step - loss: 0.3946 - accuracy: 0.8232 - val_loss: 0.4462 - val_accuracy: 0.8100\n",
      "Epoch 14/25\n",
      "250/250 [==============================] - 32s 130ms/step - loss: 0.3693 - accuracy: 0.8351 - val_loss: 0.4684 - val_accuracy: 0.7990\n",
      "Epoch 15/25\n",
      "250/250 [==============================] - 32s 130ms/step - loss: 0.3630 - accuracy: 0.8384 - val_loss: 0.4384 - val_accuracy: 0.8125\n",
      "Epoch 16/25\n",
      "250/250 [==============================] - 32s 130ms/step - loss: 0.3528 - accuracy: 0.8438 - val_loss: 0.4334 - val_accuracy: 0.8100\n",
      "Epoch 17/25\n",
      "250/250 [==============================] - 32s 129ms/step - loss: 0.3423 - accuracy: 0.8444 - val_loss: 0.4987 - val_accuracy: 0.7950\n",
      "Epoch 18/25\n",
      "250/250 [==============================] - 34s 136ms/step - loss: 0.3446 - accuracy: 0.8470 - val_loss: 0.4421 - val_accuracy: 0.8090\n",
      "Epoch 19/25\n",
      "250/250 [==============================] - 33s 131ms/step - loss: 0.3185 - accuracy: 0.8620 - val_loss: 0.4360 - val_accuracy: 0.8075\n",
      "Epoch 20/25\n",
      "250/250 [==============================] - 32s 127ms/step - loss: 0.3180 - accuracy: 0.8647 - val_loss: 0.4853 - val_accuracy: 0.7955\n",
      "Epoch 21/25\n",
      "250/250 [==============================] - 32s 127ms/step - loss: 0.3102 - accuracy: 0.8638 - val_loss: 0.4799 - val_accuracy: 0.8055\n",
      "Epoch 22/25\n",
      "250/250 [==============================] - 32s 127ms/step - loss: 0.2944 - accuracy: 0.8719 - val_loss: 0.4861 - val_accuracy: 0.7890\n",
      "Epoch 23/25\n",
      "250/250 [==============================] - 32s 126ms/step - loss: 0.2885 - accuracy: 0.8700 - val_loss: 0.4950 - val_accuracy: 0.8080\n",
      "Epoch 24/25\n",
      "250/250 [==============================] - 32s 126ms/step - loss: 0.2744 - accuracy: 0.8822 - val_loss: 0.4593 - val_accuracy: 0.8025\n",
      "Epoch 25/25\n",
      "250/250 [==============================] - 31s 126ms/step - loss: 0.2726 - accuracy: 0.8878 - val_loss: 0.4562 - val_accuracy: 0.8120\n"
     ]
    },
    {
     "data": {
      "text/plain": [
       "<tensorflow.python.keras.callbacks.History at 0x1f0d4f1c8e0>"
      ]
     },
     "execution_count": 16,
     "metadata": {},
     "output_type": "execute_result"
    }
   ],
   "source": [
    "cnn.fit(x=training_set, validation_data=test_set,epochs=25)"
   ]
  },
  {
   "cell_type": "code",
   "execution_count": 20,
   "metadata": {
    "id": "K3yYq8oBmZqB"
   },
   "outputs": [],
   "source": [
    "import numpy as np\n",
    "from keras.preprocessing import image \n",
    "test_image=image.load_img('dataset/single_prediction/cat_or_dog_2.jpg',target_size=(64,64))\n",
    "test_image=image.img_to_array(test_image)\n",
    "test_image=np.expand_dims(test_image,axis=0)\n",
    "result=cnn.predict(test_image/255.0)\n",
    "training_set.class_indices\n",
    "if result [0][0] > 0.5:\n",
    "  prediction ='dog'\n",
    "else:\n",
    "  prediction='cat'  "
   ]
  },
  {
   "cell_type": "code",
   "execution_count": 21,
   "metadata": {
    "id": "RFc8s2vgmZyl"
   },
   "outputs": [
    {
     "name": "stdout",
     "output_type": "stream",
     "text": [
      "cat\n"
     ]
    }
   ],
   "source": [
    "print(prediction)"
   ]
  },
  {
   "cell_type": "code",
   "execution_count": null,
   "metadata": {},
   "outputs": [],
   "source": []
  }
 ],
 "metadata": {
  "colab": {
   "collapsed_sections": [],
   "name": "Untitled17.ipynb",
   "provenance": []
  },
  "kernelspec": {
   "display_name": "Python 3",
   "language": "python",
   "name": "python3"
  },
  "language_info": {
   "codemirror_mode": {
    "name": "ipython",
    "version": 3
   },
   "file_extension": ".py",
   "mimetype": "text/x-python",
   "name": "python",
   "nbconvert_exporter": "python",
   "pygments_lexer": "ipython3",
   "version": "3.8.5"
  }
 },
 "nbformat": 4,
 "nbformat_minor": 1
}
